{
 "cells": [
  {
   "cell_type": "markdown",
   "metadata": {},
   "source": [
    "<font color='blue'>Привет! Поздравляю с первым выполненным проектом. Проделана большая работа. Меня зовут Алексей Алексеев, я проверю твою работу и напишу свои комментарии. Они, в зависимости от результата проверки, будут в </font><font color='green'>зеленом (когда все отлично),</font> <font color='brown'>коричневом (когда можно лучше)</font><font color='blue'> или</font> <font color='red'>красном (когда нужно переделать, чтобы я принял работу).</font><font color='blue'> Ну и в синем будут просто советы и нейтральные комментарии. Пожалуйста, не удаляй эти комментарии, они понадобятся нам для дальнейшей работы над проектом. Кстати, сразу предлагаю общаться на \"ты\".  \n",
    "Наличие критичного или трех и более некритичных замечаний является поводом для отправки проекта на доработку. Некритичные замечания могут касаться нового материала, не освещенного в тренажере, но пожалуйста, не воспринимай их как мое необоснованное желание указать на твои ошибки. Изучать новый материал по ходу работы над проектом - это часть процесса обучения, на мой взгляд, очень эффективная. Так что не стесняйся задавать вопросы, если что-то не понятно. Наша общая цель - получить новые знания и навыки.     \n",
    "А чтобы я точно не пропустил твои апдейты, желательно их также подсветить другим цветом, например, <font color='purple'>фиолетовым</font>.\n",
    "\n",
    "---   \n",
    "<font color='blue'>Апдейт после проверки: хороший проект, но давай еще немного поработаем.   \n",
    "    Более подробно см. блок в конце.\n",
    "\n",
    "</font>"
   ]
  },
  {
   "cell_type": "markdown",
   "metadata": {},
   "source": [
    "## Исследование надёжности заёмщиков\n",
    "\n",
    "Заказчик — кредитный отдел банка. Нужно разобраться, влияет ли семейное положение и количество детей клиента на факт погашения кредита в срок. Входные данные от банка — статистика о платёжеспособности клиентов.\n",
    "\n",
    "Результаты исследования будут учтены при построении модели **кредитного скоринга** — специальной системы, которая оценивает способность потенциального заёмщика вернуть кредит банку."
   ]
  },
  {
   "cell_type": "markdown",
   "metadata": {},
   "source": [
    "### Шаг 1. Откройте файл с данными и изучите общую информацию. "
   ]
  },
  {
   "cell_type": "code",
   "execution_count": 1,
   "metadata": {},
   "outputs": [
    {
     "ename": "FileNotFoundError",
     "evalue": "File b'/datasets/data.csv' does not exist",
     "output_type": "error",
     "traceback": [
      "\u001b[1;31m---------------------------------------------------------------------------\u001b[0m",
      "\u001b[1;31mFileNotFoundError\u001b[0m                         Traceback (most recent call last)",
      "\u001b[1;32m<ipython-input-1-6e303b41f1a0>\u001b[0m in \u001b[0;36m<module>\u001b[1;34m()\u001b[0m\n\u001b[0;32m      1\u001b[0m \u001b[1;32mimport\u001b[0m \u001b[0mpandas\u001b[0m \u001b[1;32mas\u001b[0m \u001b[0mpd\u001b[0m\u001b[1;33m\u001b[0m\u001b[0m\n\u001b[1;32m----> 2\u001b[1;33m \u001b[0mfile\u001b[0m \u001b[1;33m=\u001b[0m \u001b[0mpd\u001b[0m\u001b[1;33m.\u001b[0m\u001b[0mread_csv\u001b[0m\u001b[1;33m(\u001b[0m\u001b[1;34m'/datasets/data.csv'\u001b[0m\u001b[1;33m)\u001b[0m\u001b[1;33m\u001b[0m\u001b[0m\n\u001b[0m\u001b[0;32m      3\u001b[0m \u001b[1;31m#file.info()\u001b[0m\u001b[1;33m\u001b[0m\u001b[1;33m\u001b[0m\u001b[0m\n\u001b[0;32m      4\u001b[0m \u001b[0mfile\u001b[0m\u001b[1;33m.\u001b[0m\u001b[0mhead\u001b[0m\u001b[1;33m(\u001b[0m\u001b[1;33m)\u001b[0m\u001b[1;33m\u001b[0m\u001b[0m\n",
      "\u001b[1;32m~\\AppData\\Local\\Continuum\\anaconda3\\lib\\site-packages\\pandas\\io\\parsers.py\u001b[0m in \u001b[0;36mparser_f\u001b[1;34m(filepath_or_buffer, sep, delimiter, header, names, index_col, usecols, squeeze, prefix, mangle_dupe_cols, dtype, engine, converters, true_values, false_values, skipinitialspace, skiprows, nrows, na_values, keep_default_na, na_filter, verbose, skip_blank_lines, parse_dates, infer_datetime_format, keep_date_col, date_parser, dayfirst, iterator, chunksize, compression, thousands, decimal, lineterminator, quotechar, quoting, escapechar, comment, encoding, dialect, tupleize_cols, error_bad_lines, warn_bad_lines, skipfooter, skip_footer, doublequote, delim_whitespace, as_recarray, compact_ints, use_unsigned, low_memory, buffer_lines, memory_map, float_precision)\u001b[0m\n\u001b[0;32m    707\u001b[0m                     skip_blank_lines=skip_blank_lines)\n\u001b[0;32m    708\u001b[0m \u001b[1;33m\u001b[0m\u001b[0m\n\u001b[1;32m--> 709\u001b[1;33m         \u001b[1;32mreturn\u001b[0m \u001b[0m_read\u001b[0m\u001b[1;33m(\u001b[0m\u001b[0mfilepath_or_buffer\u001b[0m\u001b[1;33m,\u001b[0m \u001b[0mkwds\u001b[0m\u001b[1;33m)\u001b[0m\u001b[1;33m\u001b[0m\u001b[0m\n\u001b[0m\u001b[0;32m    710\u001b[0m \u001b[1;33m\u001b[0m\u001b[0m\n\u001b[0;32m    711\u001b[0m     \u001b[0mparser_f\u001b[0m\u001b[1;33m.\u001b[0m\u001b[0m__name__\u001b[0m \u001b[1;33m=\u001b[0m \u001b[0mname\u001b[0m\u001b[1;33m\u001b[0m\u001b[0m\n",
      "\u001b[1;32m~\\AppData\\Local\\Continuum\\anaconda3\\lib\\site-packages\\pandas\\io\\parsers.py\u001b[0m in \u001b[0;36m_read\u001b[1;34m(filepath_or_buffer, kwds)\u001b[0m\n\u001b[0;32m    447\u001b[0m \u001b[1;33m\u001b[0m\u001b[0m\n\u001b[0;32m    448\u001b[0m     \u001b[1;31m# Create the parser.\u001b[0m\u001b[1;33m\u001b[0m\u001b[1;33m\u001b[0m\u001b[0m\n\u001b[1;32m--> 449\u001b[1;33m     \u001b[0mparser\u001b[0m \u001b[1;33m=\u001b[0m \u001b[0mTextFileReader\u001b[0m\u001b[1;33m(\u001b[0m\u001b[0mfilepath_or_buffer\u001b[0m\u001b[1;33m,\u001b[0m \u001b[1;33m**\u001b[0m\u001b[0mkwds\u001b[0m\u001b[1;33m)\u001b[0m\u001b[1;33m\u001b[0m\u001b[0m\n\u001b[0m\u001b[0;32m    450\u001b[0m \u001b[1;33m\u001b[0m\u001b[0m\n\u001b[0;32m    451\u001b[0m     \u001b[1;32mif\u001b[0m \u001b[0mchunksize\u001b[0m \u001b[1;32mor\u001b[0m \u001b[0miterator\u001b[0m\u001b[1;33m:\u001b[0m\u001b[1;33m\u001b[0m\u001b[0m\n",
      "\u001b[1;32m~\\AppData\\Local\\Continuum\\anaconda3\\lib\\site-packages\\pandas\\io\\parsers.py\u001b[0m in \u001b[0;36m__init__\u001b[1;34m(self, f, engine, **kwds)\u001b[0m\n\u001b[0;32m    816\u001b[0m             \u001b[0mself\u001b[0m\u001b[1;33m.\u001b[0m\u001b[0moptions\u001b[0m\u001b[1;33m[\u001b[0m\u001b[1;34m'has_index_names'\u001b[0m\u001b[1;33m]\u001b[0m \u001b[1;33m=\u001b[0m \u001b[0mkwds\u001b[0m\u001b[1;33m[\u001b[0m\u001b[1;34m'has_index_names'\u001b[0m\u001b[1;33m]\u001b[0m\u001b[1;33m\u001b[0m\u001b[0m\n\u001b[0;32m    817\u001b[0m \u001b[1;33m\u001b[0m\u001b[0m\n\u001b[1;32m--> 818\u001b[1;33m         \u001b[0mself\u001b[0m\u001b[1;33m.\u001b[0m\u001b[0m_make_engine\u001b[0m\u001b[1;33m(\u001b[0m\u001b[0mself\u001b[0m\u001b[1;33m.\u001b[0m\u001b[0mengine\u001b[0m\u001b[1;33m)\u001b[0m\u001b[1;33m\u001b[0m\u001b[0m\n\u001b[0m\u001b[0;32m    819\u001b[0m \u001b[1;33m\u001b[0m\u001b[0m\n\u001b[0;32m    820\u001b[0m     \u001b[1;32mdef\u001b[0m \u001b[0mclose\u001b[0m\u001b[1;33m(\u001b[0m\u001b[0mself\u001b[0m\u001b[1;33m)\u001b[0m\u001b[1;33m:\u001b[0m\u001b[1;33m\u001b[0m\u001b[0m\n",
      "\u001b[1;32m~\\AppData\\Local\\Continuum\\anaconda3\\lib\\site-packages\\pandas\\io\\parsers.py\u001b[0m in \u001b[0;36m_make_engine\u001b[1;34m(self, engine)\u001b[0m\n\u001b[0;32m   1047\u001b[0m     \u001b[1;32mdef\u001b[0m \u001b[0m_make_engine\u001b[0m\u001b[1;33m(\u001b[0m\u001b[0mself\u001b[0m\u001b[1;33m,\u001b[0m \u001b[0mengine\u001b[0m\u001b[1;33m=\u001b[0m\u001b[1;34m'c'\u001b[0m\u001b[1;33m)\u001b[0m\u001b[1;33m:\u001b[0m\u001b[1;33m\u001b[0m\u001b[0m\n\u001b[0;32m   1048\u001b[0m         \u001b[1;32mif\u001b[0m \u001b[0mengine\u001b[0m \u001b[1;33m==\u001b[0m \u001b[1;34m'c'\u001b[0m\u001b[1;33m:\u001b[0m\u001b[1;33m\u001b[0m\u001b[0m\n\u001b[1;32m-> 1049\u001b[1;33m             \u001b[0mself\u001b[0m\u001b[1;33m.\u001b[0m\u001b[0m_engine\u001b[0m \u001b[1;33m=\u001b[0m \u001b[0mCParserWrapper\u001b[0m\u001b[1;33m(\u001b[0m\u001b[0mself\u001b[0m\u001b[1;33m.\u001b[0m\u001b[0mf\u001b[0m\u001b[1;33m,\u001b[0m \u001b[1;33m**\u001b[0m\u001b[0mself\u001b[0m\u001b[1;33m.\u001b[0m\u001b[0moptions\u001b[0m\u001b[1;33m)\u001b[0m\u001b[1;33m\u001b[0m\u001b[0m\n\u001b[0m\u001b[0;32m   1050\u001b[0m         \u001b[1;32melse\u001b[0m\u001b[1;33m:\u001b[0m\u001b[1;33m\u001b[0m\u001b[0m\n\u001b[0;32m   1051\u001b[0m             \u001b[1;32mif\u001b[0m \u001b[0mengine\u001b[0m \u001b[1;33m==\u001b[0m \u001b[1;34m'python'\u001b[0m\u001b[1;33m:\u001b[0m\u001b[1;33m\u001b[0m\u001b[0m\n",
      "\u001b[1;32m~\\AppData\\Local\\Continuum\\anaconda3\\lib\\site-packages\\pandas\\io\\parsers.py\u001b[0m in \u001b[0;36m__init__\u001b[1;34m(self, src, **kwds)\u001b[0m\n\u001b[0;32m   1693\u001b[0m         \u001b[0mkwds\u001b[0m\u001b[1;33m[\u001b[0m\u001b[1;34m'allow_leading_cols'\u001b[0m\u001b[1;33m]\u001b[0m \u001b[1;33m=\u001b[0m \u001b[0mself\u001b[0m\u001b[1;33m.\u001b[0m\u001b[0mindex_col\u001b[0m \u001b[1;32mis\u001b[0m \u001b[1;32mnot\u001b[0m \u001b[1;32mFalse\u001b[0m\u001b[1;33m\u001b[0m\u001b[0m\n\u001b[0;32m   1694\u001b[0m \u001b[1;33m\u001b[0m\u001b[0m\n\u001b[1;32m-> 1695\u001b[1;33m         \u001b[0mself\u001b[0m\u001b[1;33m.\u001b[0m\u001b[0m_reader\u001b[0m \u001b[1;33m=\u001b[0m \u001b[0mparsers\u001b[0m\u001b[1;33m.\u001b[0m\u001b[0mTextReader\u001b[0m\u001b[1;33m(\u001b[0m\u001b[0msrc\u001b[0m\u001b[1;33m,\u001b[0m \u001b[1;33m**\u001b[0m\u001b[0mkwds\u001b[0m\u001b[1;33m)\u001b[0m\u001b[1;33m\u001b[0m\u001b[0m\n\u001b[0m\u001b[0;32m   1696\u001b[0m \u001b[1;33m\u001b[0m\u001b[0m\n\u001b[0;32m   1697\u001b[0m         \u001b[1;31m# XXX\u001b[0m\u001b[1;33m\u001b[0m\u001b[1;33m\u001b[0m\u001b[0m\n",
      "\u001b[1;32mpandas/_libs/parsers.pyx\u001b[0m in \u001b[0;36mpandas._libs.parsers.TextReader.__cinit__\u001b[1;34m()\u001b[0m\n",
      "\u001b[1;32mpandas/_libs/parsers.pyx\u001b[0m in \u001b[0;36mpandas._libs.parsers.TextReader._setup_parser_source\u001b[1;34m()\u001b[0m\n",
      "\u001b[1;31mFileNotFoundError\u001b[0m: File b'/datasets/data.csv' does not exist"
     ]
    }
   ],
   "source": [
    "import pandas as pd\n",
    "file = pd.read_csv('/datasets/data.csv')\n",
    "#file.info()\n",
    "file.head()"
   ]
  },
  {
   "cell_type": "markdown",
   "metadata": {},
   "source": [
    "### Вывод"
   ]
  },
  {
   "cell_type": "markdown",
   "metadata": {},
   "source": [
    "В исходном файле есть 12 столбцов. Файл содержит данные в 3-х разных форматах: float64, int64, object.\n",
    "В столбцах \"days_employed\" (общий трудовой стаж в днях) и \"total_income\"(ежемесячный доход) есть по 21525-19351=2174 пустых строк. Во всех остальных столбцах пустых строк нет.\n",
    "<font color='purple'>Также обнаружили, что в столбце days_employed(общий трудовой стаж в днях) есть отрицательные значения, чего быть не должно, т.к. невозможно иметь отрицательный стаж в днях.</font>"
   ]
  },
  {
   "cell_type": "markdown",
   "metadata": {},
   "source": [
    "~<font color='brown'>Здесь также полезно взглянуть на сами данные методом `head`. Это поможет нам выявить первые проблемы в данных. Например, обрати внимание на столбец со стажем.~\n",
    "<font color='purple'>Исправлено</font>"
   ]
  },
  {
   "cell_type": "markdown",
   "metadata": {},
   "source": [
    "### Шаг 2. Предобработка данных"
   ]
  },
  {
   "cell_type": "markdown",
   "metadata": {},
   "source": [
    "### Обработка пропусков"
   ]
  },
  {
   "cell_type": "code",
   "execution_count": null,
   "metadata": {},
   "outputs": [],
   "source": [
    "##Определили медианы для столбцов, имеющих пропуски, и сохранили их в переменные:\n",
    "days_employed_median = file['days_employed'].median()\n",
    "total_income_median = file['total_income'].median()\n",
    "##Заполнили пропущенные значения полученными выше медианами:\n",
    "file['days_employed'] = file['days_employed'].fillna(days_employed_median)\n",
    "file['total_income'] = file['total_income'].fillna(total_income_median)\n",
    "##Заполнили некорректные данные корректными:\n",
    "file['children'] = file['children'].replace(-1,1) #добавил присвоение\n",
    "file['children'] = file['children'].replace(20,2) #добавил присвоение\n",
    "file"
   ]
  },
  {
   "cell_type": "markdown",
   "metadata": {},
   "source": [
    "<s><font color=red>Замена нулями лучше, чем удаление, но мы можем попытаться частично восстановить данные по имеющимся у нас значениям. Вы проходили в тренажере заполнение типичных числовых пропусков. Как бы мы могли это сделать?\n",
    "<font color='purple'>Исправлено</font>"
   ]
  },
  {
   "cell_type": "markdown",
   "metadata": {},
   "source": [
    "<s><font color='brown'>Также обрати внимание, метод `replace` (как и большинство прочих методов `pandas`) не меняет сам датафрейм, а лишь возвращает измененную копию. То есть наши -1 и 20 детей никуда не делись из изначального датафрейма. Чтобы все отработало корректно, нужно провести присвоение, тем самым заменив старый столбец на новый. (`file['children'] = ...`)\n",
    "<font color='purple'>Исправлено</font>"
   ]
  },
  {
   "cell_type": "markdown",
   "metadata": {},
   "source": [
    "<b>UPD <font color=green>Успешно разобрались со всеми проблемами, отлично."
   ]
  },
  {
   "cell_type": "markdown",
   "metadata": {},
   "source": [
    "<b>UPD <font color=blue>В качестве домашнего задания можно попробовать пойти дальше и попробовать заполнить пропуски медианами по роду деятельности: пенсионеров - медианами пенсионеров, сотрудников - медианами сотрудников. Так заполнение пропусков будет еще лучше."
   ]
  },
  {
   "cell_type": "markdown",
   "metadata": {},
   "source": [
    "### Вывод"
   ]
  },
  {
   "cell_type": "markdown",
   "metadata": {},
   "source": [
    " Пустые столбцы содержат количественные переменные, т.к. и общий трудовой стаж в днях и ежемесячный доход могут принимать любое числовое значение, поэтому для каждого такого столбца расчитали медианы и заменили ими пустые значения.\n",
    " \n",
    " Возможными причинами появления пропусков в данных могут быть:\n",
    "  а) отсутствие у клиента ежемесячного дохода и общего трудового стажа;\n",
    "  б) нежелание клиентов указывать свой ежемесячный доход и общий трудовой стаж в днях (что странно,т.к человек обратился в банк за кредитом и кажется, что ему стоит указать все свои данные в \n",
    "  максимальном объеме, если это не вопрос о судимостях или уклоняющегося от армии брата, конечно).\n",
    " \n",
    " Обнаружили \"аномалию\": у некоторых клиентов в столбце 'children' указано -1 и 20. В обоих случаях, скорее всего, была опечатка. Принимаем решение заменить -1 на 1 и 20 на 2.\n",
    "  "
   ]
  },
  {
   "cell_type": "markdown",
   "metadata": {},
   "source": [
    "<font color='blue'>Названные причины действительно выглядят странно, банк вряд ли дал бы кредит без указания дохода. Более вероятно, что дело в какой-то ошибке выгрузки."
   ]
  },
  {
   "cell_type": "markdown",
   "metadata": {},
   "source": [
    "### Замена типа данных"
   ]
  },
  {
   "cell_type": "code",
   "execution_count": null,
   "metadata": {},
   "outputs": [],
   "source": [
    "##Заменили вещественный тип данных на целочисленный:\n",
    "import pandas as pd\n",
    "file['days_employed'] = file['days_employed'].astype('int')\n",
    "file['total_income'] = file['total_income'].astype('int')\n",
    "#Проверили, что замена удалась:\n",
    "file.dtypes"
   ]
  },
  {
   "cell_type": "markdown",
   "metadata": {},
   "source": [
    "### Вывод"
   ]
  },
  {
   "cell_type": "markdown",
   "metadata": {},
   "source": [
    "Обнаружили, что в исходной таблице file есть 2 столбца с вещественным типом данных (days_employed и total_income). Т.к. логически общий трудовой стаж в днях и ежемесячный доход не могут быть нецелыми числами, заменили вещественный тип данных на целочисленный.\n",
    "Т.к. нам нужно, чтобы все числа имели тип данных float, выбрали <font color='purple'>метод astype('int').</font>"
   ]
  },
  {
   "cell_type": "markdown",
   "metadata": {},
   "source": [
    "<font color='green'>Согласен, дробные части дней стажа и копейки в уровнях дохода нас не интересуют. А замена на целочисленный тип не только улучшает визуальное восприятие, но и сэкономит память и время."
   ]
  },
  {
   "cell_type": "markdown",
   "metadata": {},
   "source": [
    "~<font color='brown'>Однако я вижу некую путаницу в комментарии. Разве мы используем здесь `to_numeric`?~\n",
    "<font color='purple'>Исправлено</font>"
   ]
  },
  {
   "cell_type": "markdown",
   "metadata": {},
   "source": [
    "### Обработка дубликатов"
   ]
  },
  {
   "cell_type": "code",
   "execution_count": 162,
   "metadata": {},
   "outputs": [
    {
     "data": {
      "text/html": [
       "<div>\n",
       "<style scoped>\n",
       "    .dataframe tbody tr th:only-of-type {\n",
       "        vertical-align: middle;\n",
       "    }\n",
       "\n",
       "    .dataframe tbody tr th {\n",
       "        vertical-align: top;\n",
       "    }\n",
       "\n",
       "    .dataframe thead th {\n",
       "        text-align: right;\n",
       "    }\n",
       "</style>\n",
       "<table border=\"1\" class=\"dataframe\">\n",
       "  <thead>\n",
       "    <tr style=\"text-align: right;\">\n",
       "      <th></th>\n",
       "      <th>children</th>\n",
       "      <th>days_employed</th>\n",
       "      <th>dob_years</th>\n",
       "      <th>education</th>\n",
       "      <th>education_id</th>\n",
       "      <th>family_status</th>\n",
       "      <th>family_status_id</th>\n",
       "      <th>gender</th>\n",
       "      <th>income_type</th>\n",
       "      <th>debt</th>\n",
       "      <th>total_income</th>\n",
       "      <th>purpose</th>\n",
       "    </tr>\n",
       "  </thead>\n",
       "  <tbody>\n",
       "    <tr>\n",
       "      <td>0</td>\n",
       "      <td>1</td>\n",
       "      <td>-8437</td>\n",
       "      <td>42</td>\n",
       "      <td>высшее</td>\n",
       "      <td>0</td>\n",
       "      <td>женат / замужем</td>\n",
       "      <td>0</td>\n",
       "      <td>F</td>\n",
       "      <td>сотрудник</td>\n",
       "      <td>0</td>\n",
       "      <td>253875</td>\n",
       "      <td>покупка жилья</td>\n",
       "    </tr>\n",
       "    <tr>\n",
       "      <td>1</td>\n",
       "      <td>1</td>\n",
       "      <td>-4024</td>\n",
       "      <td>36</td>\n",
       "      <td>среднее</td>\n",
       "      <td>1</td>\n",
       "      <td>женат / замужем</td>\n",
       "      <td>0</td>\n",
       "      <td>F</td>\n",
       "      <td>сотрудник</td>\n",
       "      <td>0</td>\n",
       "      <td>112080</td>\n",
       "      <td>приобретение автомобиля</td>\n",
       "    </tr>\n",
       "    <tr>\n",
       "      <td>2</td>\n",
       "      <td>0</td>\n",
       "      <td>-5623</td>\n",
       "      <td>33</td>\n",
       "      <td>среднее</td>\n",
       "      <td>1</td>\n",
       "      <td>женат / замужем</td>\n",
       "      <td>0</td>\n",
       "      <td>M</td>\n",
       "      <td>сотрудник</td>\n",
       "      <td>0</td>\n",
       "      <td>145885</td>\n",
       "      <td>покупка жилья</td>\n",
       "    </tr>\n",
       "    <tr>\n",
       "      <td>3</td>\n",
       "      <td>3</td>\n",
       "      <td>-4124</td>\n",
       "      <td>32</td>\n",
       "      <td>среднее</td>\n",
       "      <td>1</td>\n",
       "      <td>женат / замужем</td>\n",
       "      <td>0</td>\n",
       "      <td>M</td>\n",
       "      <td>сотрудник</td>\n",
       "      <td>0</td>\n",
       "      <td>267628</td>\n",
       "      <td>дополнительное образование</td>\n",
       "    </tr>\n",
       "    <tr>\n",
       "      <td>4</td>\n",
       "      <td>0</td>\n",
       "      <td>340266</td>\n",
       "      <td>53</td>\n",
       "      <td>среднее</td>\n",
       "      <td>1</td>\n",
       "      <td>гражданский брак</td>\n",
       "      <td>1</td>\n",
       "      <td>F</td>\n",
       "      <td>пенсионер</td>\n",
       "      <td>0</td>\n",
       "      <td>158616</td>\n",
       "      <td>сыграть свадьбу</td>\n",
       "    </tr>\n",
       "    <tr>\n",
       "      <td>...</td>\n",
       "      <td>...</td>\n",
       "      <td>...</td>\n",
       "      <td>...</td>\n",
       "      <td>...</td>\n",
       "      <td>...</td>\n",
       "      <td>...</td>\n",
       "      <td>...</td>\n",
       "      <td>...</td>\n",
       "      <td>...</td>\n",
       "      <td>...</td>\n",
       "      <td>...</td>\n",
       "      <td>...</td>\n",
       "    </tr>\n",
       "    <tr>\n",
       "      <td>21449</td>\n",
       "      <td>1</td>\n",
       "      <td>-4529</td>\n",
       "      <td>43</td>\n",
       "      <td>среднее</td>\n",
       "      <td>1</td>\n",
       "      <td>гражданский брак</td>\n",
       "      <td>1</td>\n",
       "      <td>F</td>\n",
       "      <td>компаньон</td>\n",
       "      <td>0</td>\n",
       "      <td>224791</td>\n",
       "      <td>операции с жильем</td>\n",
       "    </tr>\n",
       "    <tr>\n",
       "      <td>21450</td>\n",
       "      <td>0</td>\n",
       "      <td>343937</td>\n",
       "      <td>67</td>\n",
       "      <td>среднее</td>\n",
       "      <td>1</td>\n",
       "      <td>женат / замужем</td>\n",
       "      <td>0</td>\n",
       "      <td>F</td>\n",
       "      <td>пенсионер</td>\n",
       "      <td>0</td>\n",
       "      <td>155999</td>\n",
       "      <td>сделка с автомобилем</td>\n",
       "    </tr>\n",
       "    <tr>\n",
       "      <td>21451</td>\n",
       "      <td>1</td>\n",
       "      <td>-2113</td>\n",
       "      <td>38</td>\n",
       "      <td>среднее</td>\n",
       "      <td>1</td>\n",
       "      <td>гражданский брак</td>\n",
       "      <td>1</td>\n",
       "      <td>M</td>\n",
       "      <td>сотрудник</td>\n",
       "      <td>1</td>\n",
       "      <td>89672</td>\n",
       "      <td>недвижимость</td>\n",
       "    </tr>\n",
       "    <tr>\n",
       "      <td>21452</td>\n",
       "      <td>3</td>\n",
       "      <td>-3112</td>\n",
       "      <td>38</td>\n",
       "      <td>среднее</td>\n",
       "      <td>1</td>\n",
       "      <td>женат / замужем</td>\n",
       "      <td>0</td>\n",
       "      <td>M</td>\n",
       "      <td>сотрудник</td>\n",
       "      <td>1</td>\n",
       "      <td>244093</td>\n",
       "      <td>на покупку своего автомобиля</td>\n",
       "    </tr>\n",
       "    <tr>\n",
       "      <td>21453</td>\n",
       "      <td>2</td>\n",
       "      <td>-1984</td>\n",
       "      <td>40</td>\n",
       "      <td>среднее</td>\n",
       "      <td>1</td>\n",
       "      <td>женат / замужем</td>\n",
       "      <td>0</td>\n",
       "      <td>F</td>\n",
       "      <td>сотрудник</td>\n",
       "      <td>0</td>\n",
       "      <td>82047</td>\n",
       "      <td>на покупку автомобиля</td>\n",
       "    </tr>\n",
       "  </tbody>\n",
       "</table>\n",
       "<p>21454 rows × 12 columns</p>\n",
       "</div>"
      ],
      "text/plain": [
       "       children  days_employed  dob_years education  education_id  \\\n",
       "0             1          -8437         42    высшее             0   \n",
       "1             1          -4024         36   среднее             1   \n",
       "2             0          -5623         33   среднее             1   \n",
       "3             3          -4124         32   среднее             1   \n",
       "4             0         340266         53   среднее             1   \n",
       "...         ...            ...        ...       ...           ...   \n",
       "21449         1          -4529         43   среднее             1   \n",
       "21450         0         343937         67   среднее             1   \n",
       "21451         1          -2113         38   среднее             1   \n",
       "21452         3          -3112         38   среднее             1   \n",
       "21453         2          -1984         40   среднее             1   \n",
       "\n",
       "          family_status  family_status_id gender income_type  debt  \\\n",
       "0       женат / замужем                 0      F   сотрудник     0   \n",
       "1       женат / замужем                 0      F   сотрудник     0   \n",
       "2       женат / замужем                 0      M   сотрудник     0   \n",
       "3       женат / замужем                 0      M   сотрудник     0   \n",
       "4      гражданский брак                 1      F   пенсионер     0   \n",
       "...                 ...               ...    ...         ...   ...   \n",
       "21449  гражданский брак                 1      F   компаньон     0   \n",
       "21450   женат / замужем                 0      F   пенсионер     0   \n",
       "21451  гражданский брак                 1      M   сотрудник     1   \n",
       "21452   женат / замужем                 0      M   сотрудник     1   \n",
       "21453   женат / замужем                 0      F   сотрудник     0   \n",
       "\n",
       "       total_income                       purpose  \n",
       "0            253875                 покупка жилья  \n",
       "1            112080       приобретение автомобиля  \n",
       "2            145885                 покупка жилья  \n",
       "3            267628    дополнительное образование  \n",
       "4            158616               сыграть свадьбу  \n",
       "...             ...                           ...  \n",
       "21449        224791             операции с жильем  \n",
       "21450        155999          сделка с автомобилем  \n",
       "21451         89672                  недвижимость  \n",
       "21452        244093  на покупку своего автомобиля  \n",
       "21453         82047         на покупку автомобиля  \n",
       "\n",
       "[21454 rows x 12 columns]"
      ]
     },
     "execution_count": 162,
     "metadata": {},
     "output_type": "execute_result"
    }
   ],
   "source": [
    "#Перед тем, как приступить к определению и удалению дубликатов, приведем все столбцы, содержащие \n",
    "#текстовые значения, к строчному регистру:\n",
    "file['education'] = file['education'].str.lower()\n",
    "file['family_status'] = file['family_status'].str.lower()\n",
    "file['income_type'] = file['income_type'].str.lower()\n",
    "file['purpose'] = file['purpose'].str.lower()\n",
    "#Определяем кол-во дубликатов в таблице file методом duplicated():\n",
    "file.duplicated().sum() #71 строки\n",
    "#Удаляем дубликаты из всей таблицы file методом drop_duplicates(), используя аргумент drop \n",
    "#со значением True, чтобы не создавать столбец со старыми значениями индексов:\n",
    "file.drop_duplicates().reset_index(drop = True)\n"
   ]
  },
  {
   "cell_type": "markdown",
   "metadata": {},
   "source": [
    "### Вывод"
   ]
  },
  {
   "cell_type": "markdown",
   "metadata": {},
   "source": [
    "Для определения дубликатов использовали метод duplicated(), т.к. альтернативный метод value_counts() даст нам избыточную информацию о частоте встречаемости уникальных значений, а наша цель - просто удалить дубликаты.\n",
    "Для удаления дубликатов использовали единственный известный нам метод drop_duplicates().\n",
    "\n",
    "Возможными причинами возникновения дубликатов могут быть:\n",
    "- человеческий фактор\n",
    "- ошибка при слиянии данных (неправильный мердж)\n",
    "- ошибка в исходных таблицах\n",
    "- ошибка системы или процесса выгрузки\n"
   ]
  },
  {
   "cell_type": "markdown",
   "metadata": {},
   "source": [
    "<font color='green'>С дубликатами разобрались, молодец, что приводишь образование к нижнему регистру перед удалением, без этого могли бы остаться \"скрытые\" дубликаты."
   ]
  },
  {
   "cell_type": "markdown",
   "metadata": {},
   "source": [
    "### Лемматизация"
   ]
  },
  {
   "cell_type": "code",
   "execution_count": 163,
   "metadata": {},
   "outputs": [
    {
     "data": {
      "text/plain": [
       "<bound method Counter.most_common of Counter({' ': 96, 'покупка': 10, 'недвижимость': 10, 'автомобиль': 9, 'образование': 9, 'жилье': 7, 'с': 5, 'операция': 4, 'на': 4, 'свой': 4, 'свадьба': 3, 'строительство': 3, 'получение': 3, 'высокий': 3, 'дополнительный': 2, 'для': 2, 'коммерческий': 2, 'жилой': 2, 'подержать': 2, 'заниматься': 2, 'сделка': 2, 'приобретение': 1, 'сыграть': 1, 'проведение': 1, 'семья': 1, 'собственный': 1, 'со': 1, 'профильный': 1, 'сдача': 1, 'ремонт': 1, '\\n': 1})>"
      ]
     },
     "execution_count": 163,
     "metadata": {},
     "output_type": "execute_result"
    }
   ],
   "source": [
    "#импортируем библиотеку pymystem3:\n",
    "from pymystem3 import Mystem\n",
    "m = Mystem()\n",
    "#вызываем специальный контейнер Counter из модуля collections:\n",
    "from collections import Counter\n",
    "file['lemmatized_purpose']=file['purpose'].apply(m.lemmatize)\n",
    "text = ' '.join(file['purpose'].unique())\n",
    "lemmas = m.lemmatize(text)\n",
    "Counter(lemmas).most_common#добавил метод most_common"
   ]
  },
  {
   "cell_type": "markdown",
   "metadata": {},
   "source": [
    "<font color='blue'>Этот список хорошо бы упорядочить. У `Counter` есть полезный метод most_common(x)."
   ]
  },
  {
   "cell_type": "markdown",
   "metadata": {},
   "source": [
    "<b>UPD <font color=blue>✔✔👍"
   ]
  },
  {
   "cell_type": "markdown",
   "metadata": {},
   "source": [
    "### Вывод"
   ]
  },
  {
   "cell_type": "markdown",
   "metadata": {},
   "source": [
    "Выделили леммы в значениях столбца 'purpose' и посчитали кол-во их упоминаний, последовательно выполнив следующие шаги:\n",
    "\n",
    "1) импортировали библиотеку pymystem3, затем вызвали специальный контейнер Counter для подсчёта кол-ва упоминаний лемматизированных слов в тексте;\n",
    "\n",
    "2) выделили леммы из столбца 'purpose'\n",
    "\n",
    "3) лемматизировали полученные в п.2) слова\n",
    "\n",
    "4) посчитали кол-во упоминаний полученных в п.3) лемматизированных слов"
   ]
  },
  {
   "cell_type": "markdown",
   "metadata": {},
   "source": [
    "<font color='green'>Здорово реализован автоматизированный поиск популярных лемм 👏 За это **жирный** плюс."
   ]
  },
  {
   "cell_type": "markdown",
   "metadata": {},
   "source": [
    "### Категоризация данных"
   ]
  },
  {
   "cell_type": "code",
   "execution_count": 164,
   "metadata": {},
   "outputs": [
    {
     "data": {
      "text/html": [
       "<div>\n",
       "<style scoped>\n",
       "    .dataframe tbody tr th:only-of-type {\n",
       "        vertical-align: middle;\n",
       "    }\n",
       "\n",
       "    .dataframe tbody tr th {\n",
       "        vertical-align: top;\n",
       "    }\n",
       "\n",
       "    .dataframe thead th {\n",
       "        text-align: right;\n",
       "    }\n",
       "</style>\n",
       "<table border=\"1\" class=\"dataframe\">\n",
       "  <thead>\n",
       "    <tr style=\"text-align: right;\">\n",
       "      <th></th>\n",
       "      <th>children</th>\n",
       "      <th>days_employed</th>\n",
       "      <th>dob_years</th>\n",
       "      <th>education</th>\n",
       "      <th>education_id</th>\n",
       "      <th>family_status</th>\n",
       "      <th>family_status_id</th>\n",
       "      <th>gender</th>\n",
       "      <th>income_type</th>\n",
       "      <th>debt</th>\n",
       "      <th>total_income</th>\n",
       "      <th>purpose</th>\n",
       "      <th>lemmatized_purpose</th>\n",
       "      <th>new_purpose</th>\n",
       "    </tr>\n",
       "  </thead>\n",
       "  <tbody>\n",
       "    <tr>\n",
       "      <td>0</td>\n",
       "      <td>1</td>\n",
       "      <td>-8437</td>\n",
       "      <td>42</td>\n",
       "      <td>высшее</td>\n",
       "      <td>0</td>\n",
       "      <td>женат / замужем</td>\n",
       "      <td>0</td>\n",
       "      <td>F</td>\n",
       "      <td>сотрудник</td>\n",
       "      <td>0</td>\n",
       "      <td>253875</td>\n",
       "      <td>покупка жилья</td>\n",
       "      <td>[покупка,  , жилье, \\n]</td>\n",
       "      <td>недвижимость</td>\n",
       "    </tr>\n",
       "    <tr>\n",
       "      <td>1</td>\n",
       "      <td>1</td>\n",
       "      <td>-4024</td>\n",
       "      <td>36</td>\n",
       "      <td>среднее</td>\n",
       "      <td>1</td>\n",
       "      <td>женат / замужем</td>\n",
       "      <td>0</td>\n",
       "      <td>F</td>\n",
       "      <td>сотрудник</td>\n",
       "      <td>0</td>\n",
       "      <td>112080</td>\n",
       "      <td>приобретение автомобиля</td>\n",
       "      <td>[приобретение,  , автомобиль, \\n]</td>\n",
       "      <td>автомобиль</td>\n",
       "    </tr>\n",
       "    <tr>\n",
       "      <td>2</td>\n",
       "      <td>0</td>\n",
       "      <td>-5623</td>\n",
       "      <td>33</td>\n",
       "      <td>среднее</td>\n",
       "      <td>1</td>\n",
       "      <td>женат / замужем</td>\n",
       "      <td>0</td>\n",
       "      <td>M</td>\n",
       "      <td>сотрудник</td>\n",
       "      <td>0</td>\n",
       "      <td>145885</td>\n",
       "      <td>покупка жилья</td>\n",
       "      <td>[покупка,  , жилье, \\n]</td>\n",
       "      <td>недвижимость</td>\n",
       "    </tr>\n",
       "    <tr>\n",
       "      <td>3</td>\n",
       "      <td>3</td>\n",
       "      <td>-4124</td>\n",
       "      <td>32</td>\n",
       "      <td>среднее</td>\n",
       "      <td>1</td>\n",
       "      <td>женат / замужем</td>\n",
       "      <td>0</td>\n",
       "      <td>M</td>\n",
       "      <td>сотрудник</td>\n",
       "      <td>0</td>\n",
       "      <td>267628</td>\n",
       "      <td>дополнительное образование</td>\n",
       "      <td>[дополнительный,  , образование, \\n]</td>\n",
       "      <td>образование</td>\n",
       "    </tr>\n",
       "    <tr>\n",
       "      <td>4</td>\n",
       "      <td>0</td>\n",
       "      <td>340266</td>\n",
       "      <td>53</td>\n",
       "      <td>среднее</td>\n",
       "      <td>1</td>\n",
       "      <td>гражданский брак</td>\n",
       "      <td>1</td>\n",
       "      <td>F</td>\n",
       "      <td>пенсионер</td>\n",
       "      <td>0</td>\n",
       "      <td>158616</td>\n",
       "      <td>сыграть свадьбу</td>\n",
       "      <td>[сыграть,  , свадьба, \\n]</td>\n",
       "      <td>свадьба</td>\n",
       "    </tr>\n",
       "    <tr>\n",
       "      <td>...</td>\n",
       "      <td>...</td>\n",
       "      <td>...</td>\n",
       "      <td>...</td>\n",
       "      <td>...</td>\n",
       "      <td>...</td>\n",
       "      <td>...</td>\n",
       "      <td>...</td>\n",
       "      <td>...</td>\n",
       "      <td>...</td>\n",
       "      <td>...</td>\n",
       "      <td>...</td>\n",
       "      <td>...</td>\n",
       "      <td>...</td>\n",
       "      <td>...</td>\n",
       "    </tr>\n",
       "    <tr>\n",
       "      <td>21520</td>\n",
       "      <td>1</td>\n",
       "      <td>-4529</td>\n",
       "      <td>43</td>\n",
       "      <td>среднее</td>\n",
       "      <td>1</td>\n",
       "      <td>гражданский брак</td>\n",
       "      <td>1</td>\n",
       "      <td>F</td>\n",
       "      <td>компаньон</td>\n",
       "      <td>0</td>\n",
       "      <td>224791</td>\n",
       "      <td>операции с жильем</td>\n",
       "      <td>[операция,  , с,  , жилье, \\n]</td>\n",
       "      <td>недвижимость</td>\n",
       "    </tr>\n",
       "    <tr>\n",
       "      <td>21521</td>\n",
       "      <td>0</td>\n",
       "      <td>343937</td>\n",
       "      <td>67</td>\n",
       "      <td>среднее</td>\n",
       "      <td>1</td>\n",
       "      <td>женат / замужем</td>\n",
       "      <td>0</td>\n",
       "      <td>F</td>\n",
       "      <td>пенсионер</td>\n",
       "      <td>0</td>\n",
       "      <td>155999</td>\n",
       "      <td>сделка с автомобилем</td>\n",
       "      <td>[сделка,  , с,  , автомобиль, \\n]</td>\n",
       "      <td>автомобиль</td>\n",
       "    </tr>\n",
       "    <tr>\n",
       "      <td>21522</td>\n",
       "      <td>1</td>\n",
       "      <td>-2113</td>\n",
       "      <td>38</td>\n",
       "      <td>среднее</td>\n",
       "      <td>1</td>\n",
       "      <td>гражданский брак</td>\n",
       "      <td>1</td>\n",
       "      <td>M</td>\n",
       "      <td>сотрудник</td>\n",
       "      <td>1</td>\n",
       "      <td>89672</td>\n",
       "      <td>недвижимость</td>\n",
       "      <td>[недвижимость, \\n]</td>\n",
       "      <td>недвижимость</td>\n",
       "    </tr>\n",
       "    <tr>\n",
       "      <td>21523</td>\n",
       "      <td>3</td>\n",
       "      <td>-3112</td>\n",
       "      <td>38</td>\n",
       "      <td>среднее</td>\n",
       "      <td>1</td>\n",
       "      <td>женат / замужем</td>\n",
       "      <td>0</td>\n",
       "      <td>M</td>\n",
       "      <td>сотрудник</td>\n",
       "      <td>1</td>\n",
       "      <td>244093</td>\n",
       "      <td>на покупку своего автомобиля</td>\n",
       "      <td>[на,  , покупка,  , свой,  , автомобиль, \\n]</td>\n",
       "      <td>автомобиль</td>\n",
       "    </tr>\n",
       "    <tr>\n",
       "      <td>21524</td>\n",
       "      <td>2</td>\n",
       "      <td>-1984</td>\n",
       "      <td>40</td>\n",
       "      <td>среднее</td>\n",
       "      <td>1</td>\n",
       "      <td>женат / замужем</td>\n",
       "      <td>0</td>\n",
       "      <td>F</td>\n",
       "      <td>сотрудник</td>\n",
       "      <td>0</td>\n",
       "      <td>82047</td>\n",
       "      <td>на покупку автомобиля</td>\n",
       "      <td>[на,  , покупка,  , автомобиль, \\n]</td>\n",
       "      <td>автомобиль</td>\n",
       "    </tr>\n",
       "  </tbody>\n",
       "</table>\n",
       "<p>21525 rows × 14 columns</p>\n",
       "</div>"
      ],
      "text/plain": [
       "       children  days_employed  dob_years education  education_id  \\\n",
       "0             1          -8437         42    высшее             0   \n",
       "1             1          -4024         36   среднее             1   \n",
       "2             0          -5623         33   среднее             1   \n",
       "3             3          -4124         32   среднее             1   \n",
       "4             0         340266         53   среднее             1   \n",
       "...         ...            ...        ...       ...           ...   \n",
       "21520         1          -4529         43   среднее             1   \n",
       "21521         0         343937         67   среднее             1   \n",
       "21522         1          -2113         38   среднее             1   \n",
       "21523         3          -3112         38   среднее             1   \n",
       "21524         2          -1984         40   среднее             1   \n",
       "\n",
       "          family_status  family_status_id gender income_type  debt  \\\n",
       "0       женат / замужем                 0      F   сотрудник     0   \n",
       "1       женат / замужем                 0      F   сотрудник     0   \n",
       "2       женат / замужем                 0      M   сотрудник     0   \n",
       "3       женат / замужем                 0      M   сотрудник     0   \n",
       "4      гражданский брак                 1      F   пенсионер     0   \n",
       "...                 ...               ...    ...         ...   ...   \n",
       "21520  гражданский брак                 1      F   компаньон     0   \n",
       "21521   женат / замужем                 0      F   пенсионер     0   \n",
       "21522  гражданский брак                 1      M   сотрудник     1   \n",
       "21523   женат / замужем                 0      M   сотрудник     1   \n",
       "21524   женат / замужем                 0      F   сотрудник     0   \n",
       "\n",
       "       total_income                       purpose  \\\n",
       "0            253875                 покупка жилья   \n",
       "1            112080       приобретение автомобиля   \n",
       "2            145885                 покупка жилья   \n",
       "3            267628    дополнительное образование   \n",
       "4            158616               сыграть свадьбу   \n",
       "...             ...                           ...   \n",
       "21520        224791             операции с жильем   \n",
       "21521        155999          сделка с автомобилем   \n",
       "21522         89672                  недвижимость   \n",
       "21523        244093  на покупку своего автомобиля   \n",
       "21524         82047         на покупку автомобиля   \n",
       "\n",
       "                                 lemmatized_purpose   new_purpose  \n",
       "0                           [покупка,  , жилье, \\n]  недвижимость  \n",
       "1                 [приобретение,  , автомобиль, \\n]    автомобиль  \n",
       "2                           [покупка,  , жилье, \\n]  недвижимость  \n",
       "3              [дополнительный,  , образование, \\n]   образование  \n",
       "4                         [сыграть,  , свадьба, \\n]       свадьба  \n",
       "...                                             ...           ...  \n",
       "21520                [операция,  , с,  , жилье, \\n]  недвижимость  \n",
       "21521             [сделка,  , с,  , автомобиль, \\n]    автомобиль  \n",
       "21522                            [недвижимость, \\n]  недвижимость  \n",
       "21523  [на,  , покупка,  , свой,  , автомобиль, \\n]    автомобиль  \n",
       "21524           [на,  , покупка,  , автомобиль, \\n]    автомобиль  \n",
       "\n",
       "[21525 rows x 14 columns]"
      ]
     },
     "execution_count": 164,
     "metadata": {},
     "output_type": "execute_result"
    }
   ],
   "source": [
    "def purpose_change(lemma):\n",
    "    if 'жилье' in lemma or 'недвижимость' in lemma:\n",
    "        return 'недвижимость'\n",
    "    if 'свадьба' in lemma:\n",
    "        return 'свадьба'\n",
    "    if 'ремонт' in lemma:\n",
    "        return 'ремонт'\n",
    "    if 'автомобиль' in lemma:\n",
    "        return 'автомобиль'\n",
    "    if 'образование' in lemma:\n",
    "        return 'образование'\n",
    "    return 'другое'\n",
    "\n",
    "file['new_purpose']=file['lemmatized_purpose'].apply(purpose_change)\n",
    "file"
   ]
  },
  {
   "cell_type": "markdown",
   "metadata": {},
   "source": [
    "### Вывод"
   ]
  },
  {
   "cell_type": "markdown",
   "metadata": {},
   "source": [
    " Получили словарь, последовательно выполнив следующие шаги:\n",
    " \n",
    " 1) лемматизировали столбец purpose.\n",
    " \n",
    " 2) нашли леммы, которые в нем встречаются чаще всего - это и есть основные причины взятия кредитов, составляющие словарь.\n",
    " \n",
    " 3) написали функцию, которая сопоставляет этот словарь причин со столбцом \"purpose\", после чего подбирает нужную причину."
   ]
  },
  {
   "cell_type": "markdown",
   "metadata": {},
   "source": [
    "<font color='green'>Безусловно, отлично справился. Это одно из сложных заданий проекта."
   ]
  },
  {
   "cell_type": "markdown",
   "metadata": {},
   "source": [
    "### Шаг 3. Ответьте на вопросы"
   ]
  },
  {
   "cell_type": "markdown",
   "metadata": {},
   "source": [
    "- Есть ли зависимость между наличием детей и возвратом кредита в срок?"
   ]
  },
  {
   "cell_type": "code",
   "execution_count": 165,
   "metadata": {},
   "outputs": [
    {
     "data": {
      "text/html": [
       "<div>\n",
       "<style scoped>\n",
       "    .dataframe tbody tr th:only-of-type {\n",
       "        vertical-align: middle;\n",
       "    }\n",
       "\n",
       "    .dataframe tbody tr th {\n",
       "        vertical-align: top;\n",
       "    }\n",
       "\n",
       "    .dataframe thead tr th {\n",
       "        text-align: left;\n",
       "    }\n",
       "</style>\n",
       "<table border=\"1\" class=\"dataframe\">\n",
       "  <thead>\n",
       "    <tr>\n",
       "      <th></th>\n",
       "      <th>children</th>\n",
       "      <th colspan=\"2\" halign=\"left\">debt</th>\n",
       "      <th>percent</th>\n",
       "    </tr>\n",
       "    <tr>\n",
       "      <th></th>\n",
       "      <th></th>\n",
       "      <th>sum</th>\n",
       "      <th>count</th>\n",
       "      <th></th>\n",
       "    </tr>\n",
       "  </thead>\n",
       "  <tbody>\n",
       "    <tr>\n",
       "      <td>0</td>\n",
       "      <td>0</td>\n",
       "      <td>1063</td>\n",
       "      <td>14149</td>\n",
       "      <td>0.075129</td>\n",
       "    </tr>\n",
       "    <tr>\n",
       "      <td>1</td>\n",
       "      <td>1</td>\n",
       "      <td>445</td>\n",
       "      <td>4865</td>\n",
       "      <td>0.091470</td>\n",
       "    </tr>\n",
       "    <tr>\n",
       "      <td>2</td>\n",
       "      <td>2</td>\n",
       "      <td>202</td>\n",
       "      <td>2131</td>\n",
       "      <td>0.094791</td>\n",
       "    </tr>\n",
       "    <tr>\n",
       "      <td>3</td>\n",
       "      <td>3</td>\n",
       "      <td>27</td>\n",
       "      <td>330</td>\n",
       "      <td>0.081818</td>\n",
       "    </tr>\n",
       "    <tr>\n",
       "      <td>4</td>\n",
       "      <td>4</td>\n",
       "      <td>4</td>\n",
       "      <td>41</td>\n",
       "      <td>0.097561</td>\n",
       "    </tr>\n",
       "    <tr>\n",
       "      <td>5</td>\n",
       "      <td>5</td>\n",
       "      <td>0</td>\n",
       "      <td>9</td>\n",
       "      <td>0.000000</td>\n",
       "    </tr>\n",
       "  </tbody>\n",
       "</table>\n",
       "</div>"
      ],
      "text/plain": [
       "  children  debt          percent\n",
       "             sum  count          \n",
       "0        0  1063  14149  0.075129\n",
       "1        1   445   4865  0.091470\n",
       "2        2   202   2131  0.094791\n",
       "3        3    27    330  0.081818\n",
       "4        4     4     41  0.097561\n",
       "5        5     0      9  0.000000"
      ]
     },
     "execution_count": 165,
     "metadata": {},
     "output_type": "execute_result"
    }
   ],
   "source": [
    "file_pivot = file.groupby(['children']).agg({'debt': ('sum','count')}).reset_index()\n",
    "file_pivot['percent'] = file_pivot['debt']['sum'] / file_pivot['debt']['count']\n",
    "file_pivot"
   ]
  },
  {
   "cell_type": "markdown",
   "metadata": {},
   "source": [
    "### Вывод"
   ]
  },
  {
   "cell_type": "markdown",
   "metadata": {},
   "source": [
    " Существует прямая зависимость между наличием детей и возвратом кредита в срок: \n",
    " 1. Клиенты с 5-ю детьми не имеют задолженностей по кредиту.\n",
    "    Гипотеза о том, что человек с таким большим кол-вом детей несет больше рисков и ответственности, \n",
    "    что вынуждает его хорошо зарабатывать и не иметь проблем с законом и банками, не рассматриваем, \n",
    "    т.к. видим, что каждый 10-й клиент с 3-4 детьми имеет задолженность по кредиту. Скорее всего, \n",
    "    слишком маленькая выборка из 9 человек непоказательна.\n",
    " 2. Клиенты без детей реже остальных имеют задолженности по возврату кредитов, несмотря на то, что \n",
    "    берут кредиты чаще остальных. Такие клиенты любят брать кредиты, которые без труда могут \n",
    "    вернуть без просрочки. \n",
    " 3. Каждый 10-й клиент, имеющий минимум 1 ребенка,имеет задолженность по кредиту.\n",
    "    Ребенок требует немалых финансовых затрат,что вынуждает клиентов брать кредиты.\n",
    "    Когда человек становится родителем, это оказывает определенное влияние на его \n",
    "    образ жизни и меняет привычный уклад. Человеку трудно перераспределить ресурсы(в т.ч. \n",
    "    финансовые), а также он может иметь проблемы со сном и отдыхом, и как следствие - может \n",
    "    столкнуться с перегоранием и увольнением, что, очевидно, затруднит выплаты по кредитам. "
   ]
  },
  {
   "cell_type": "markdown",
   "metadata": {},
   "source": [
    "~<font color='red'>Безусловно, мы не можем делать выводы только из абсолютных цифр. Возможно, бездетных клиентов в принципе гораздо больше, поэтому и просрочек у них больше. Для оценки вероятности просрочки нам нужно посмотреть не количество, а _процент_ просрочивших кредит в каждой группе. Иными словами, какой процент из всех бездетных (однодетных, двухдетных) допустил просрочку. Как его получить? Просто разделить количество просрочивших бездетных на общее количество бездетных. Первое у нас уже есть, второе мы можем найти при помощи метода агрегации `count`. Напомню, что pandas позволяет без проблем делить датафреймы друг на друга.  \n",
    "    Как ты понимаешь, все тоже самое относится и к последующим пунктам.~  \n",
    "    <font color='purple'>Исправлено</font>"
   ]
  },
  {
   "cell_type": "markdown",
   "metadata": {},
   "source": [
    "<b>UPD <font color=green>Отлично. Короткое и эффективное решение. Верные выводы."
   ]
  },
  {
   "cell_type": "markdown",
   "metadata": {},
   "source": [
    "- Есть ли зависимость между семейным положением и возвратом кредита в срок?"
   ]
  },
  {
   "cell_type": "code",
   "execution_count": 166,
   "metadata": {},
   "outputs": [
    {
     "data": {
      "text/html": [
       "<div>\n",
       "<style scoped>\n",
       "    .dataframe tbody tr th:only-of-type {\n",
       "        vertical-align: middle;\n",
       "    }\n",
       "\n",
       "    .dataframe tbody tr th {\n",
       "        vertical-align: top;\n",
       "    }\n",
       "\n",
       "    .dataframe thead tr th {\n",
       "        text-align: left;\n",
       "    }\n",
       "</style>\n",
       "<table border=\"1\" class=\"dataframe\">\n",
       "  <thead>\n",
       "    <tr>\n",
       "      <th></th>\n",
       "      <th>family_status</th>\n",
       "      <th colspan=\"2\" halign=\"left\">debt</th>\n",
       "      <th>percent</th>\n",
       "    </tr>\n",
       "    <tr>\n",
       "      <th></th>\n",
       "      <th></th>\n",
       "      <th>sum</th>\n",
       "      <th>count</th>\n",
       "      <th></th>\n",
       "    </tr>\n",
       "  </thead>\n",
       "  <tbody>\n",
       "    <tr>\n",
       "      <td>0</td>\n",
       "      <td>в разводе</td>\n",
       "      <td>85</td>\n",
       "      <td>1195</td>\n",
       "      <td>0.071130</td>\n",
       "    </tr>\n",
       "    <tr>\n",
       "      <td>1</td>\n",
       "      <td>вдовец / вдова</td>\n",
       "      <td>63</td>\n",
       "      <td>960</td>\n",
       "      <td>0.065625</td>\n",
       "    </tr>\n",
       "    <tr>\n",
       "      <td>2</td>\n",
       "      <td>гражданский брак</td>\n",
       "      <td>388</td>\n",
       "      <td>4177</td>\n",
       "      <td>0.092890</td>\n",
       "    </tr>\n",
       "    <tr>\n",
       "      <td>3</td>\n",
       "      <td>женат / замужем</td>\n",
       "      <td>931</td>\n",
       "      <td>12380</td>\n",
       "      <td>0.075202</td>\n",
       "    </tr>\n",
       "    <tr>\n",
       "      <td>4</td>\n",
       "      <td>не женат / не замужем</td>\n",
       "      <td>274</td>\n",
       "      <td>2813</td>\n",
       "      <td>0.097405</td>\n",
       "    </tr>\n",
       "  </tbody>\n",
       "</table>\n",
       "</div>"
      ],
      "text/plain": [
       "           family_status debt          percent\n",
       "                          sum  count          \n",
       "0              в разводе   85   1195  0.071130\n",
       "1         вдовец / вдова   63    960  0.065625\n",
       "2       гражданский брак  388   4177  0.092890\n",
       "3        женат / замужем  931  12380  0.075202\n",
       "4  не женат / не замужем  274   2813  0.097405"
      ]
     },
     "execution_count": 166,
     "metadata": {},
     "output_type": "execute_result"
    }
   ],
   "source": [
    "file_pivot = file.groupby(['family_status']).agg({'debt': ('sum','count')}).reset_index()\n",
    "file_pivot['percent'] = file_pivot['debt']['sum'] / file_pivot['debt']['count']\n",
    "file_pivot"
   ]
  },
  {
   "cell_type": "markdown",
   "metadata": {},
   "source": [
    "<font color='blue'>Вот, здесь уже гораздо ближе к цели! Сумма клиентов по группам посчитана. Осталось грамотно поделить столбцы, чтобы найти процент просрочек по группам."
   ]
  },
  {
   "cell_type": "markdown",
   "metadata": {},
   "source": [
    "### Вывод"
   ]
  },
  {
   "cell_type": "markdown",
   "metadata": {},
   "source": [
    " 1. Чаще всего имеют задолженность по кредиту неженатые/незамужние клиенты и те, кто состоит в \n",
    "    гражданских браках.\n",
    "    Гипотеза: когда человек один физически(не замужем/не женат) или морально(в гражданском \n",
    "    браке), выплачивать кредит сложнее, чем в паре, т.к. нет финансовой поддержки со стороны \n",
    "    родителей партнера и нет финансовой подушки, которую обычно имеют молодожены после свадьбы.\n",
    " 2. Намного чаще остальных берут кредиты клиенты, состоящие в браке, но при этом только 7,5% клиентов \n",
    "    из этой категории имеют задолженности по кредитам.\n",
    "    Гипотеза: статус мужа/жены предполагает наличие острой необходимости купить большой телевизор, \n",
    "    умный холодильник, бесшумную стиральную машинку и разнообразные блендеры/тостеры. На все эти \n",
    "    \"блага\" клиенты берут очень много кредитов, но наличие финансовой подушки после свадьбы, а также \n",
    "    родственники всячески оказывают поддержку молодоженам, что позволяет конечно не полностью \n",
    "    исключить просрочки по выплатам кредитов, но уменьшить этот показатель.\n",
    " 3. Вдовцы/вдовы и люди в разводе имеют меньшую склонность брать кредиты и иметь просрочки по \n",
    "    выплатам.\n",
    "    Гипотеза: люди, потерявшие свою 2-ю половину, не хотят больше привязываться к чему-либо и иметь \n",
    "    обязательства, в том числе финансовые."
   ]
  },
  {
   "cell_type": "markdown",
   "metadata": {},
   "source": [
    "<b>UPD <font color='blue'>В целом, здесь видно, что наиболее надежные заемщики, это те, кто находится или когда-либо был в официальном браке."
   ]
  },
  {
   "cell_type": "markdown",
   "metadata": {},
   "source": [
    "- Есть ли зависимость между уровнем дохода и возвратом кредита в срок?"
   ]
  },
  {
   "cell_type": "code",
   "execution_count": 167,
   "metadata": {},
   "outputs": [
    {
     "data": {
      "text/plain": [
       "0.25    107798.0\n",
       "0.50    145017.0\n",
       "0.75    195543.0\n",
       "Name: total_income, dtype: float64"
      ]
     },
     "execution_count": 167,
     "metadata": {},
     "output_type": "execute_result"
    }
   ],
   "source": [
    "#делим клиентов на 3 равные (по кол-ву) части и определяем для каждой части медианы по заработку\n",
    "file['total_income'].quantile(q=[0.25,0.5,0.75])"
   ]
  },
  {
   "cell_type": "code",
   "execution_count": 168,
   "metadata": {
    "scrolled": true
   },
   "outputs": [
    {
     "data": {
      "text/html": [
       "<div>\n",
       "<style scoped>\n",
       "    .dataframe tbody tr th:only-of-type {\n",
       "        vertical-align: middle;\n",
       "    }\n",
       "\n",
       "    .dataframe tbody tr th {\n",
       "        vertical-align: top;\n",
       "    }\n",
       "\n",
       "    .dataframe thead tr th {\n",
       "        text-align: left;\n",
       "    }\n",
       "</style>\n",
       "<table border=\"1\" class=\"dataframe\">\n",
       "  <thead>\n",
       "    <tr>\n",
       "      <th></th>\n",
       "      <th>income_group</th>\n",
       "      <th colspan=\"2\" halign=\"left\">debt</th>\n",
       "      <th>percent</th>\n",
       "    </tr>\n",
       "    <tr>\n",
       "      <th></th>\n",
       "      <th></th>\n",
       "      <th>sum</th>\n",
       "      <th>count</th>\n",
       "      <th></th>\n",
       "    </tr>\n",
       "  </thead>\n",
       "  <tbody>\n",
       "    <tr>\n",
       "      <td>0</td>\n",
       "      <td>высокий доход</td>\n",
       "      <td>386</td>\n",
       "      <td>5381</td>\n",
       "      <td>0.071734</td>\n",
       "    </tr>\n",
       "    <tr>\n",
       "      <td>1</td>\n",
       "      <td>минимальный доход</td>\n",
       "      <td>247</td>\n",
       "      <td>3208</td>\n",
       "      <td>0.076995</td>\n",
       "    </tr>\n",
       "    <tr>\n",
       "      <td>2</td>\n",
       "      <td>средний доход</td>\n",
       "      <td>452</td>\n",
       "      <td>5381</td>\n",
       "      <td>0.083999</td>\n",
       "    </tr>\n",
       "    <tr>\n",
       "      <td>3</td>\n",
       "      <td>хороший доход</td>\n",
       "      <td>656</td>\n",
       "      <td>7555</td>\n",
       "      <td>0.086830</td>\n",
       "    </tr>\n",
       "  </tbody>\n",
       "</table>\n",
       "</div>"
      ],
      "text/plain": [
       "        income_group debt         percent\n",
       "                      sum count          \n",
       "0      высокий доход  386  5381  0.071734\n",
       "1  минимальный доход  247  3208  0.076995\n",
       "2      средний доход  452  5381  0.083999\n",
       "3      хороший доход  656  7555  0.086830"
      ]
     },
     "execution_count": 168,
     "metadata": {},
     "output_type": "execute_result"
    }
   ],
   "source": [
    "def income_group(income):\n",
    "    if income == 0:\n",
    "        return 'нулевой доход'\n",
    "    if 0 < income <= 88612:\n",
    "        return 'минимальный доход'\n",
    "    if 88612 < income <= 135514:\n",
    "        return 'средний доход'\n",
    "    if 135514 < income <= 195543:\n",
    "        return 'хороший доход'\n",
    "    return 'высокий доход'\n",
    "\n",
    "file['income_group'] = file['total_income'].apply(income_group)\n",
    "file_pivot = file.groupby(['income_group']).agg({'debt': ('sum','count')}).reset_index()\n",
    "file_pivot['percent'] = file_pivot['debt']['sum'] / file_pivot['debt']['count']\n",
    "file_pivot\n"
   ]
  },
  {
   "cell_type": "markdown",
   "metadata": {},
   "source": [
    "<s><font color=brown>Хорошо, но хотелось бы увидеть какое-то обоснование выбора границ доходов. Субъективные суждения зачастую обманчивы. Для кого-то ниже 100 000 - низкий доход, а для кого-то и 40 000 - высокий. Как результат, видим, что в нижнюю категорию почти никто не попал.\n",
    "<font color='purple'>Исправлено</font>"
   ]
  },
  {
   "cell_type": "markdown",
   "metadata": {},
   "source": [
    "<font color='blue'>Когда не вполне очевидно, как разбить сет, бывает удобно воспользоваться квантилями (как медиана, только бьет данные не на две, а на произвольное количество частей). Метод `describe`, примененный к столбцу, поможет разбить группу на 4 равные по количеству клиентов части. Или можно использовать непосредственно `.quantile(q=[0.25,0.5,0.75])`. Как видишь, тут уже можно разгуляться и указать произвольные границы в процентах."
   ]
  },
  {
   "cell_type": "markdown",
   "metadata": {},
   "source": [
    "<b>UPD <font color=green>Успешно применили квантили, супер."
   ]
  },
  {
   "cell_type": "markdown",
   "metadata": {},
   "source": [
    "### Вывод"
   ]
  },
  {
   "cell_type": "markdown",
   "metadata": {},
   "source": [
    "Перед тем, как анализировать сводную таблицу, разделили клиентов на 3 равные (по кол-ву) части и определили для каждой части медианы по заработку. Так мы определили границы доходов в каждой части.\n",
    "Затем написали цикл, который категоризирует клиентов на группы по доходам.\n",
    "\n",
    "Люди с высоким доходом реже всего имеют просрочки по кредитам, что логично, т.к. у них бОльшая финансовая возможность отдавать кредиты в срок.\n",
    "\n",
    "Люди с минимальным доходом реже остальных берут кредиты и имеют небольшую вероятность просрочить выплаты. Возможно, они не берут кредиты, т.к. не имеют возможности (или им его не одобряют).\n",
    "\n",
    "Люди со средним и хорошим доходом чаще всего имеют задолженности по кредитам. Возможно, несмотря на неплохие зарплаты, до \"высшей лиги\" им без кредитов не дотянуться."
   ]
  },
  {
   "cell_type": "markdown",
   "metadata": {},
   "source": [
    "- Как разные цели кредита влияют на его возврат в срок?"
   ]
  },
  {
   "cell_type": "code",
   "execution_count": 169,
   "metadata": {},
   "outputs": [
    {
     "data": {
      "text/html": [
       "<div>\n",
       "<style scoped>\n",
       "    .dataframe tbody tr th:only-of-type {\n",
       "        vertical-align: middle;\n",
       "    }\n",
       "\n",
       "    .dataframe tbody tr th {\n",
       "        vertical-align: top;\n",
       "    }\n",
       "\n",
       "    .dataframe thead th {\n",
       "        text-align: right;\n",
       "    }\n",
       "</style>\n",
       "<table border=\"1\" class=\"dataframe\">\n",
       "  <thead>\n",
       "    <tr style=\"text-align: right;\">\n",
       "      <th></th>\n",
       "      <th></th>\n",
       "      <th>count</th>\n",
       "      <th>sum</th>\n",
       "      <th>percent</th>\n",
       "    </tr>\n",
       "    <tr>\n",
       "      <th>new_purpose</th>\n",
       "      <th>children</th>\n",
       "      <th></th>\n",
       "      <th></th>\n",
       "      <th></th>\n",
       "    </tr>\n",
       "  </thead>\n",
       "  <tbody>\n",
       "    <tr>\n",
       "      <td>свадьба</td>\n",
       "      <td>3</td>\n",
       "      <td>32</td>\n",
       "      <td>5</td>\n",
       "      <td>0.156250</td>\n",
       "    </tr>\n",
       "    <tr>\n",
       "      <td>недвижимость</td>\n",
       "      <td>4</td>\n",
       "      <td>21</td>\n",
       "      <td>3</td>\n",
       "      <td>0.142857</td>\n",
       "    </tr>\n",
       "    <tr>\n",
       "      <td>автомобиль</td>\n",
       "      <td>2</td>\n",
       "      <td>415</td>\n",
       "      <td>50</td>\n",
       "      <td>0.120482</td>\n",
       "    </tr>\n",
       "    <tr>\n",
       "      <td>образование</td>\n",
       "      <td>2</td>\n",
       "      <td>419</td>\n",
       "      <td>47</td>\n",
       "      <td>0.112172</td>\n",
       "    </tr>\n",
       "    <tr>\n",
       "      <td>автомобиль</td>\n",
       "      <td>1</td>\n",
       "      <td>976</td>\n",
       "      <td>104</td>\n",
       "      <td>0.106557</td>\n",
       "    </tr>\n",
       "    <tr>\n",
       "      <td>образование</td>\n",
       "      <td>1</td>\n",
       "      <td>877</td>\n",
       "      <td>90</td>\n",
       "      <td>0.102623</td>\n",
       "    </tr>\n",
       "    <tr>\n",
       "      <td>автомобиль</td>\n",
       "      <td>4</td>\n",
       "      <td>10</td>\n",
       "      <td>1</td>\n",
       "      <td>0.100000</td>\n",
       "    </tr>\n",
       "    <tr>\n",
       "      <td>свадьба</td>\n",
       "      <td>1</td>\n",
       "      <td>536</td>\n",
       "      <td>51</td>\n",
       "      <td>0.095149</td>\n",
       "    </tr>\n",
       "    <tr>\n",
       "      <td>образование</td>\n",
       "      <td>0</td>\n",
       "      <td>2649</td>\n",
       "      <td>229</td>\n",
       "      <td>0.086448</td>\n",
       "    </tr>\n",
       "    <tr>\n",
       "      <td>автомобиль</td>\n",
       "      <td>0</td>\n",
       "      <td>2852</td>\n",
       "      <td>243</td>\n",
       "      <td>0.085203</td>\n",
       "    </tr>\n",
       "    <tr>\n",
       "      <td>недвижимость</td>\n",
       "      <td>2</td>\n",
       "      <td>1072</td>\n",
       "      <td>90</td>\n",
       "      <td>0.083955</td>\n",
       "    </tr>\n",
       "    <tr>\n",
       "      <td>автомобиль</td>\n",
       "      <td>3</td>\n",
       "      <td>60</td>\n",
       "      <td>5</td>\n",
       "      <td>0.083333</td>\n",
       "    </tr>\n",
       "    <tr>\n",
       "      <td rowspan=\"2\" valign=\"top\">недвижимость</td>\n",
       "      <td>1</td>\n",
       "      <td>2476</td>\n",
       "      <td>200</td>\n",
       "      <td>0.080775</td>\n",
       "    </tr>\n",
       "    <tr>\n",
       "      <td>3</td>\n",
       "      <td>169</td>\n",
       "      <td>13</td>\n",
       "      <td>0.076923</td>\n",
       "    </tr>\n",
       "    <tr>\n",
       "      <td>свадьба</td>\n",
       "      <td>0</td>\n",
       "      <td>1551</td>\n",
       "      <td>115</td>\n",
       "      <td>0.074146</td>\n",
       "    </tr>\n",
       "    <tr>\n",
       "      <td>недвижимость</td>\n",
       "      <td>0</td>\n",
       "      <td>7097</td>\n",
       "      <td>476</td>\n",
       "      <td>0.067071</td>\n",
       "    </tr>\n",
       "    <tr>\n",
       "      <td>свадьба</td>\n",
       "      <td>2</td>\n",
       "      <td>225</td>\n",
       "      <td>15</td>\n",
       "      <td>0.066667</td>\n",
       "    </tr>\n",
       "    <tr>\n",
       "      <td>образование</td>\n",
       "      <td>3</td>\n",
       "      <td>69</td>\n",
       "      <td>4</td>\n",
       "      <td>0.057971</td>\n",
       "    </tr>\n",
       "    <tr>\n",
       "      <td>недвижимость</td>\n",
       "      <td>5</td>\n",
       "      <td>5</td>\n",
       "      <td>0</td>\n",
       "      <td>0.000000</td>\n",
       "    </tr>\n",
       "    <tr>\n",
       "      <td rowspan=\"2\" valign=\"top\">образование</td>\n",
       "      <td>4</td>\n",
       "      <td>7</td>\n",
       "      <td>0</td>\n",
       "      <td>0.000000</td>\n",
       "    </tr>\n",
       "    <tr>\n",
       "      <td>5</td>\n",
       "      <td>1</td>\n",
       "      <td>0</td>\n",
       "      <td>0.000000</td>\n",
       "    </tr>\n",
       "    <tr>\n",
       "      <td>автомобиль</td>\n",
       "      <td>5</td>\n",
       "      <td>2</td>\n",
       "      <td>0</td>\n",
       "      <td>0.000000</td>\n",
       "    </tr>\n",
       "    <tr>\n",
       "      <td rowspan=\"2\" valign=\"top\">свадьба</td>\n",
       "      <td>4</td>\n",
       "      <td>3</td>\n",
       "      <td>0</td>\n",
       "      <td>0.000000</td>\n",
       "    </tr>\n",
       "    <tr>\n",
       "      <td>5</td>\n",
       "      <td>1</td>\n",
       "      <td>0</td>\n",
       "      <td>0.000000</td>\n",
       "    </tr>\n",
       "  </tbody>\n",
       "</table>\n",
       "</div>"
      ],
      "text/plain": [
       "                       count  sum   percent\n",
       "new_purpose  children                      \n",
       "свадьба      3            32    5  0.156250\n",
       "недвижимость 4            21    3  0.142857\n",
       "автомобиль   2           415   50  0.120482\n",
       "образование  2           419   47  0.112172\n",
       "автомобиль   1           976  104  0.106557\n",
       "образование  1           877   90  0.102623\n",
       "автомобиль   4            10    1  0.100000\n",
       "свадьба      1           536   51  0.095149\n",
       "образование  0          2649  229  0.086448\n",
       "автомобиль   0          2852  243  0.085203\n",
       "недвижимость 2          1072   90  0.083955\n",
       "автомобиль   3            60    5  0.083333\n",
       "недвижимость 1          2476  200  0.080775\n",
       "             3           169   13  0.076923\n",
       "свадьба      0          1551  115  0.074146\n",
       "недвижимость 0          7097  476  0.067071\n",
       "свадьба      2           225   15  0.066667\n",
       "образование  3            69    4  0.057971\n",
       "недвижимость 5             5    0  0.000000\n",
       "образование  4             7    0  0.000000\n",
       "             5             1    0  0.000000\n",
       "автомобиль   5             2    0  0.000000\n",
       "свадьба      4             3    0  0.000000\n",
       "             5             1    0  0.000000"
      ]
     },
     "execution_count": 169,
     "metadata": {},
     "output_type": "execute_result"
    }
   ],
   "source": [
    "#file_pivot = file.groupby(['new_purpose']).agg({'debt': ('sum','count')}).reset_index()\n",
    "#file_pivot['percent'] = file_pivot['debt']['sum'] / file_pivot['debt']['count']\n",
    "#file_pivot\n",
    "file_pivot = file.pivot_table(index = ['new_purpose','children'], values = 'debt', aggfunc = ('sum','count'))\n",
    "file_pivot['percent'] = file_pivot['sum'] / file_pivot['count']\n",
    "file_pivot.sort_values(by = 'percent', ascending = False)"
   ]
  },
  {
   "cell_type": "markdown",
   "metadata": {},
   "source": [
    "### Вывод"
   ]
  },
  {
   "cell_type": "markdown",
   "metadata": {},
   "source": [
    " Как и ожидалось, чем выше стоимость услуги, тем чаще на эту слугу берут кредит. Недвижимость все еще самая желанная и самая недоступная цель для клиентов, но при этом доля просрочек самая низкая. Возможно, это из-за того что люди, берущие кредит на недвижимость, идут \"all in\", т.е. все свои источники дохода направляют на скорейший сброс такой большого груза.\n",
    " \n",
    " Наши клиенты берут и просрачивают кредиты на образование в той же мере, что и кредиты на автомобили. Тот факт, что кол-во взятых кредитов на эти 2 цели сопоставимо, говорит о том, что в системе ценностей у наших клиентов автомобиль = образование. Можно сказать, что это из-за того, что образование в стране доступно без кредитов (нет), а можно просто сказать о приоритетах.\n",
    " \n",
    " Радует, что клиенты берут кредиты на свадьбу реже остальных категорий и с низкой вероятностью имеют просрочки по выплатам (скорее всего из-за помощи родителей и подаренных денег молодым). Пугает то, что на свадьбы кредиты все еще берут."
   ]
  },
  {
   "cell_type": "markdown",
   "metadata": {},
   "source": [
    "~<font color='red'>Этот шаг требует доработки. Давай найдем относительные цифры и, вероятно, пересмотрим выводы.~  \n",
    "<font color='purple'>Исправлено</font>"
   ]
  },
  {
   "cell_type": "markdown",
   "metadata": {},
   "source": [
    "<b>UPD <font color=green>Теперь шаг выполнен отлично.Верные цифры, лаконичный код, четкие и правильные выводы. Уверенное использование агрегации данных."
   ]
  },
  {
   "cell_type": "markdown",
   "metadata": {},
   "source": [
    "<b>UPD <font color='red'>Однако одной из целей этой работы является отработка применения сводных таблиц. Это гибкий и удобный способ, развитие метода `groupby()`, которым, как я вижу, ты уже вполне умеешь пользоваться. Предлагаю сделать шаг вперед и применить (хотябы один раз) в рассчетах метод `pivot_table()`. Подсказка: для ответов на поставленные вопросы можно не указывать аргумент `columns` - тогда мы получим одномерную табличку, как в случае с `groupby()`.</font>\n",
    "  <font color='blue'> При желании же копнуть глубже, можно указать в качестве колонок (аргумент `columns`) какую-либо вторую категорию, тогда мы сможем оценить, например, как отдают кредиты люди с детьми и с целью - автомобиль.</font>"
   ]
  },
  {
   "cell_type": "markdown",
   "metadata": {},
   "source": [
    "<font color='purple'>Копнули глубже и, использовав метод pivot_table() вместо groupby(), получили информацию о том, как кол-во детей и цель кредита влияют на то, как человек выплачивает кредит.\n",
    "    \n",
    "   В многодетных семьях (4-5 детей) кредиты почти не берут, а если и берут, то отдают без просрочек. Мотив понятен: риски высоки, семья очень большая, нужно минимизировать проблемы с банками и сосредоточиться на воспитании.\n",
    "    \n",
    "   Клиенты без детей чаще остальных берут кредиты, но хорошо их выплачивают: если кредит взят на базовые вещи (недвижимость или свадьба), то 92-93% таких клиентов выплачивают кредиты в срок; кредиты на небазовые вещи(автомобиль или образование) отдают немного хуже, но все равно почти образцово: 91% клиентов не имеют задолженностей.\n",
    "  \n",
    "   Самые же злостные нарушители сроков выплаты кредитов - это счастливые обладатели 3-4 детей, цель кредита которых - свадьба или недвижимость. Похоже, что у данных клиентов не совсем все идет по плану и, неожиданно для себя родив треть футбольной команды, они в срочном порядке вынуждены играть свадьбы и покупать квартиру. А зачастую принятые наспех решения ведут к плохим последствиям. В нашем случае это просрочка выплат по кредитам."
   ]
  },
  {
   "cell_type": "markdown",
   "metadata": {},
   "source": [
    "### Шаг 4. Общий вывод"
   ]
  },
  {
   "cell_type": "markdown",
   "metadata": {},
   "source": [
    " Безусловно, такие важные социальные метрики, как кол-во детей, семейный статус, доход и цели кредита непосредственно влияют на его возврат в срок.\n",
    " Вот как выглядит типичный портрет нежелательного клиента нашего банка, который с большей вероятностью просрочит выплату кредита: клиент имеет от 1 до 4 детей, состоит в гражданском браке или не женат/не замужем, имеет хороший доход (от 135514р до 195543р) и собирается взять кредит на образование или на покупку автомобиля.\n",
    " Следующая информация будет очень полезна для отдела маркетинга: статус мужа/жены вместе с желанием завести детей чаще всего подталкивает клиентов к взятию кредита на самую желанную и самую недоступную цель для человека - недвижимость. \n",
    " Прям как у Булгакова: \"Что ж ... обыкновенные люди ... квартирный вопрос только испортил их\"."
   ]
  },
  {
   "cell_type": "markdown",
   "metadata": {},
   "source": [
    "<font color=green>Очень хорошо, что в общем выводе ты даешь четкий ответ на центральный вопрос, то есть бизнес совет клиенту - кто для него хороший клиент, кто плохой. Именно этого он от нас обычно и ждет."
   ]
  },
  {
   "cell_type": "markdown",
   "metadata": {},
   "source": [
    "~<font color='brown'>Однако не все тезисы получились верными, обязательно стоит пересмотреть вывод после доработки.~  \n",
    "<font color='purple'>Исправлено</font>"
   ]
  },
  {
   "cell_type": "markdown",
   "metadata": {},
   "source": [
    "<font color=green>К оформлению работы вопросов нет: все аккуратно, код и комментарии в подходящих ячейках. Код читабелен, комментарии грамотны и понятны."
   ]
  },
  {
   "cell_type": "markdown",
   "metadata": {},
   "source": [
    "---\n",
    "<font color='blue'>Итак, отличная работа, особенно для первого проекта. Ты показываешь прекрасное владение изучаемым материалом: уверенно пользуешься pandas, умеешь подготавливать, очищать, обогощать данные. Также ты правильно разбиваешь их на категории, грамотно применяя метод `apply()`. Отмечу уверенное использование метода `groupby()`.    \n",
    "    Однако некоторые замечания у меня все же есть, главным образом, по третьему шагу. Уверен, учесть их тебе не составит труда. Жду доработанный проект, успехов!"
   ]
  },
  {
   "cell_type": "markdown",
   "metadata": {},
   "source": [
    "<b>UPD <font color=blue>Работа почти доведена до идеала. Мне нужно только убедиться, что ты освоил сводные таблицы, и я принимаю проект."
   ]
  },
  {
   "cell_type": "markdown",
   "metadata": {},
   "source": [
    "### Чек-лист готовности проекта\n",
    "\n",
    "Поставьте 'x' в выполненных пунктах. Далее нажмите Shift+Enter."
   ]
  },
  {
   "cell_type": "markdown",
   "metadata": {},
   "source": [
    "- [x]  открыт файл;\n",
    "- [x]  файл изучен;\n",
    "- [x]  определены пропущенные значения;\n",
    "- [x]  заполнены пропущенные значения;\n",
    "- [x]  есть пояснение, какие пропущенные значения обнаружены;\n",
    "- [x]  описаны возможные причины появления пропусков в данных;\n",
    "- [x]  объяснено, по какому принципу заполнены пропуски;\n",
    "- [x]  заменен вещественный тип данных на целочисленный;\n",
    "- [x]  есть пояснение, какой метод используется для изменения типа данных и почему;\n",
    "- [x]  удалены дубликаты;\n",
    "- [x]  есть пояснение, какой метод используется для поиска и удаления дубликатов;\n",
    "- [x]  описаны возможные причины появления дубликатов в данных;\n",
    "- [x]  выделены леммы в значениях столбца с целями получения кредита;\n",
    "- [x]  описан процесс лемматизации;\n",
    "- [x]  данные категоризированы;\n",
    "- [x]  есть объяснение принципа категоризации данных;\n",
    "- [x]  есть ответ на вопрос: \"Есть ли зависимость между наличием детей и возвратом кредита в срок?\";\n",
    "- [x]  есть ответ на вопрос: \"Есть ли зависимость между семейным положением и возвратом кредита в срок?\";\n",
    "- [x]  есть ответ на вопрос: \"Есть ли зависимость между уровнем дохода и возвратом кредита в срок?\";\n",
    "- [x]  есть ответ на вопрос: \"Как разные цели кредита влияют на его возврат в срок?\";\n",
    "- [x]  в каждом этапе есть выводы;\n",
    "- [x]  есть общий вывод."
   ]
  }
 ],
 "metadata": {
  "kernelspec": {
   "display_name": "Python 3",
   "language": "python",
   "name": "python3"
  },
  "language_info": {
   "codemirror_mode": {
    "name": "ipython",
    "version": 3
   },
   "file_extension": ".py",
   "mimetype": "text/x-python",
   "name": "python",
   "nbconvert_exporter": "python",
   "pygments_lexer": "ipython3",
   "version": "3.6.4"
  }
 },
 "nbformat": 4,
 "nbformat_minor": 2
}
